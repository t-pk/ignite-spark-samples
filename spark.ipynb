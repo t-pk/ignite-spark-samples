{
 "cells": [
  {
   "cell_type": "code",
   "execution_count": null,
   "metadata": {},
   "outputs": [
    {
     "ename": "",
     "evalue": "",
     "output_type": "error",
     "traceback": [
      "\u001b[1;31mFailed to connect to the remote Jupyter Server 'http://127.0.0.1:8888/'. Verify the server is running and reachable. (Failed to connect to the remote Jupyter Server 'http://127.0.0.1:8888/'. Verify the server is running and reachable. (Forbidden).)."
     ]
    }
   ],
   "source": [
    "!pip install pyignite\n",
    "from pyspark.sql import SparkSession\n",
    "from pyspark.sql.types import StringType, StructType, StructField\n",
    "\n",
    "spark = SparkSession.builder.appName(\"test\").master(\"local\").getOrCreate() \n",
    "\n",
    "from pyignite import Client\n",
    "\n",
    "client = Client()\n",
    "client.connect(\"ignite\", 10800)\n",
    "\n",
    "CITY_CREATE_TABLE_QUERY = '''CREATE TABLE City (\n",
    "    ID INT(11),\n",
    "    Name CHAR(35),\n",
    "    CountryCode CHAR(3),\n",
    "    District CHAR(20),\n",
    "    Population INT(11),\n",
    "    PRIMARY KEY (ID, CountryCode)\n",
    ") WITH \"affinityKey=CountryCode\"'''\n",
    "\n",
    "client.sql(CITY_CREATE_TABLE_QUERY)\n",
    "\n",
    "CITY_CREATE_INDEX = \"CREATE INDEX idx_country_code ON city (CountryCode)\"\n",
    "\n",
    "client.sql(CITY_CREATE_INDEX)\n",
    "\n",
    "CITY_INSERT_QUERY = \"\"\"INSERT INTO City(\n",
    "    ID, Name, CountryCode, District, Population\n",
    ") VALUES (?, ?, ?, ?, ?)\"\"\"\n",
    "\n",
    "CITY_DATA = [\n",
    "    [3793, \"New York\", \"USA\", \"New York\", 8008278],\n",
    "    [3794, \"Los Angeles\", \"USA\", \"California\", 3694820],\n",
    "    [3795, \"Chicago\", \"USA\", \"Illinois\", 2896016],\n",
    "    [3796, \"Houston\", \"USA\", \"Texas\", 1953631],\n",
    "    [3797, \"Philadelphia\", \"USA\", \"Pennsylvania\", 1517550],\n",
    "    [3798, \"Phoenix\", \"USA\", \"Arizona\", 1321045],\n",
    "    [3799, \"San Diego\", \"USA\", \"California\", 1223400],\n",
    "    [3800, \"Dallas\", \"USA\", \"Texas\", 1188580],\n",
    "]\n",
    "\n",
    "for row in CITY_DATA:\n",
    "    client.sql(CITY_INSERT_QUERY, query_args=row)\n",
    "\n",
    "CITY_SELECT_QUERY = \"SELECT * FROM City\"\n",
    "\n",
    "cities = client.sql(CITY_SELECT_QUERY)\n",
    "for city in cities:\n",
    "    print(*city)\n",
    "\n",
    "\n",
    "# Query Ignite data\n",
    "query = \"SELECT * FROM City\"\n",
    "result = client.sql(query)\n",
    "\n",
    "# Define DataFrame schema and create DataFrame\n",
    "columns = [\"ID\", \"Name\", \"CountryCode\", \"District\", \"Population\"]\n",
    "df = spark.createDataFrame(result, columns)\n",
    "\n",
    "# Show DataFrame\n",
    "df.show()\n",
    "\n",
    "# Stop Spark session\n",
    "spark.stop()\n",
    "\n",
    "# Disconnect from Ignite\n",
    "client.close()"
   ]
  }
 ],
 "metadata": {
  "kernelspec": {
   "display_name": "Python 3 (ipykernel)",
   "language": "python",
   "name": "python3"
  }
 },
 "nbformat": 4,
 "nbformat_minor": 2
}
